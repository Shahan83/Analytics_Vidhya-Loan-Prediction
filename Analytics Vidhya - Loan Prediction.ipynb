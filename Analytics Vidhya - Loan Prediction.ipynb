{
 "cells": [
  {
   "cell_type": "code",
   "execution_count": 1,
   "metadata": {
    "collapsed": true
   },
   "outputs": [],
   "source": [
    "loan.train <- read.csv(\"/home/shahan/Documents/Analytics_Vidhya/LoanPrediction/train_u6lujuX_CVtuZ9i.csv\")\n",
    "loan.test <- read.csv(\"/home/shahan/Documents/Analytics_Vidhya/LoanPrediction/test_Y3wMUE5_7gLdaTN.csv\")\n"
   ]
  },
  {
   "cell_type": "code",
   "execution_count": 9,
   "metadata": {
    "collapsed": false
   },
   "outputs": [
    {
     "name": "stderr",
     "output_type": "stream",
     "text": [
      "\n",
      "Attaching package: ‘caret’\n",
      "\n",
      "The following object is masked from ‘package:survival’:\n",
      "\n",
      "    cluster\n",
      "\n"
     ]
    }
   ],
   "source": [
    "library(caret)\n",
    "library(Metrics)"
   ]
  },
  {
   "cell_type": "code",
   "execution_count": 6,
   "metadata": {
    "collapsed": false
   },
   "outputs": [
    {
     "data": {
      "text/html": [
       "<ol class=list-inline>\n",
       "\t<li>'Loan_ID'</li>\n",
       "\t<li>'Gender'</li>\n",
       "\t<li>'Married'</li>\n",
       "\t<li>'Dependents'</li>\n",
       "\t<li>'Education'</li>\n",
       "\t<li>'Self_Employed'</li>\n",
       "\t<li>'ApplicantIncome'</li>\n",
       "\t<li>'CoapplicantIncome'</li>\n",
       "\t<li>'LoanAmount'</li>\n",
       "\t<li>'Loan_Amount_Term'</li>\n",
       "\t<li>'Credit_History'</li>\n",
       "\t<li>'Property_Area'</li>\n",
       "\t<li>'Loan_Status'</li>\n",
       "</ol>\n"
      ],
      "text/latex": [
       "\\begin{enumerate*}\n",
       "\\item 'Loan\\_ID'\n",
       "\\item 'Gender'\n",
       "\\item 'Married'\n",
       "\\item 'Dependents'\n",
       "\\item 'Education'\n",
       "\\item 'Self\\_Employed'\n",
       "\\item 'ApplicantIncome'\n",
       "\\item 'CoapplicantIncome'\n",
       "\\item 'LoanAmount'\n",
       "\\item 'Loan\\_Amount\\_Term'\n",
       "\\item 'Credit\\_History'\n",
       "\\item 'Property\\_Area'\n",
       "\\item 'Loan\\_Status'\n",
       "\\end{enumerate*}\n"
      ],
      "text/markdown": [
       "1. 'Loan_ID'\n",
       "2. 'Gender'\n",
       "3. 'Married'\n",
       "4. 'Dependents'\n",
       "5. 'Education'\n",
       "6. 'Self_Employed'\n",
       "7. 'ApplicantIncome'\n",
       "8. 'CoapplicantIncome'\n",
       "9. 'LoanAmount'\n",
       "10. 'Loan_Amount_Term'\n",
       "11. 'Credit_History'\n",
       "12. 'Property_Area'\n",
       "13. 'Loan_Status'\n",
       "\n",
       "\n"
      ],
      "text/plain": [
       " [1] \"Loan_ID\"           \"Gender\"            \"Married\"          \n",
       " [4] \"Dependents\"        \"Education\"         \"Self_Employed\"    \n",
       " [7] \"ApplicantIncome\"   \"CoapplicantIncome\" \"LoanAmount\"       \n",
       "[10] \"Loan_Amount_Term\"  \"Credit_History\"    \"Property_Area\"    \n",
       "[13] \"Loan_Status\"      "
      ]
     },
     "metadata": {},
     "output_type": "display_data"
    },
    {
     "name": "stdout",
     "output_type": "stream",
     "text": [
      "'data.frame':\t614 obs. of  13 variables:\n",
      " $ Loan_ID          : Factor w/ 614 levels \"LP001002\",\"LP001003\",..: 1 2 3 4 5 6 7 8 9 10 ...\n",
      " $ Gender           : Factor w/ 3 levels \"\",\"Female\",\"Male\": 3 3 3 3 3 3 3 3 3 3 ...\n",
      " $ Married          : Factor w/ 3 levels \"\",\"No\",\"Yes\": 2 3 3 3 2 3 3 3 3 3 ...\n",
      " $ Dependents       : Factor w/ 5 levels \"\",\"0\",\"1\",\"2\",..: 2 3 2 2 2 4 2 5 4 3 ...\n",
      " $ Education        : Factor w/ 2 levels \"Graduate\",\"Not Graduate\": 1 1 1 2 1 1 2 1 1 1 ...\n",
      " $ Self_Employed    : Factor w/ 3 levels \"\",\"No\",\"Yes\": 2 2 3 2 2 3 2 2 2 2 ...\n",
      " $ ApplicantIncome  : int  5849 4583 3000 2583 6000 5417 2333 3036 4006 12841 ...\n",
      " $ CoapplicantIncome: num  0 1508 0 2358 0 ...\n",
      " $ LoanAmount       : int  NA 128 66 120 141 267 95 158 168 349 ...\n",
      " $ Loan_Amount_Term : int  360 360 360 360 360 360 360 360 360 360 ...\n",
      " $ Credit_History   : int  1 1 1 1 1 1 1 0 1 1 ...\n",
      " $ Property_Area    : Factor w/ 3 levels \"Rural\",\"Semiurban\",..: 3 1 3 3 3 3 3 2 3 2 ...\n",
      " $ Loan_Status      : Factor w/ 2 levels \"N\",\"Y\": 2 1 2 2 2 2 2 1 2 1 ...\n"
     ]
    }
   ],
   "source": [
    "colnames(loan.train)\n",
    "str(loan.train)\n",
    "\n",
    "\n"
   ]
  },
  {
   "cell_type": "code",
   "execution_count": 7,
   "metadata": {
    "collapsed": false
   },
   "outputs": [
    {
     "data": {
      "text/plain": [
       "     Loan_ID       Gender    Married    Dependents        Education  \n",
       " LP001002:  1         :  0       :  0       :  0   Graduate    :480  \n",
       " LP001003:  1   Female:112   No  :213   0   :345   Not Graduate:134  \n",
       " LP001005:  1   Male  :489   Yes :398   1   :102                     \n",
       " LP001006:  1   NA's  : 13   NA's:  3   2   :101                     \n",
       " LP001008:  1                           3+  : 51                     \n",
       " LP001011:  1                           NA's: 15                     \n",
       " (Other) :608                                                        \n",
       " Self_Employed ApplicantIncome CoapplicantIncome   LoanAmount   \n",
       "     :  0      Min.   :  150   Min.   :    0     Min.   :  9.0  \n",
       " No  :500      1st Qu.: 2878   1st Qu.:    0     1st Qu.:100.0  \n",
       " Yes : 82      Median : 3812   Median : 1188     Median :128.0  \n",
       " NA's: 32      Mean   : 5403   Mean   : 1621     Mean   :146.4  \n",
       "               3rd Qu.: 5795   3rd Qu.: 2297     3rd Qu.:168.0  \n",
       "               Max.   :81000   Max.   :41667     Max.   :700.0  \n",
       "                                                 NA's   :22     \n",
       " Loan_Amount_Term Credit_History     Property_Area Loan_Status\n",
       " Min.   : 12      Min.   :0.0000   Rural    :179   N:192      \n",
       " 1st Qu.:360      1st Qu.:1.0000   Semiurban:233   Y:422      \n",
       " Median :360      Median :1.0000   Urban    :202              \n",
       " Mean   :342      Mean   :0.8422                              \n",
       " 3rd Qu.:360      3rd Qu.:1.0000                              \n",
       " Max.   :480      Max.   :1.0000                              \n",
       " NA's   :14       NA's   :50                                  "
      ]
     },
     "metadata": {},
     "output_type": "display_data"
    }
   ],
   "source": [
    "loan.train.1 <- loan.train\n",
    "loan.train.1[loan.train.1 == \"\"] <- NA\n",
    "summary(loan.train.1)\n"
   ]
  },
  {
   "cell_type": "code",
   "execution_count": 8,
   "metadata": {
    "collapsed": false
   },
   "outputs": [
    {
     "data": {
      "text/plain": [
       "     Loan_ID       Gender    Married   Dependents        Education  \n",
       " LP001015:  1         :  0   No :134       :  0   Graduate    :283  \n",
       " LP001022:  1   Female: 70   Yes:233   0   :200   Not Graduate: 84  \n",
       " LP001031:  1   Male  :286             1   : 58                     \n",
       " LP001035:  1   NA's  : 11             2   : 59                     \n",
       " LP001051:  1                          3+  : 40                     \n",
       " LP001054:  1                          NA's: 10                     \n",
       " (Other) :361                                                       \n",
       " Self_Employed ApplicantIncome CoapplicantIncome   LoanAmount   \n",
       "     :  0      Min.   :    0   Min.   :    0     Min.   : 28.0  \n",
       " No  :307      1st Qu.: 2864   1st Qu.:    0     1st Qu.:100.2  \n",
       " Yes : 37      Median : 3786   Median : 1025     Median :125.0  \n",
       " NA's: 23      Mean   : 4806   Mean   : 1570     Mean   :136.1  \n",
       "               3rd Qu.: 5060   3rd Qu.: 2430     3rd Qu.:158.0  \n",
       "               Max.   :72529   Max.   :24000     Max.   :550.0  \n",
       "                                                 NA's   :5      \n",
       " Loan_Amount_Term Credit_History     Property_Area\n",
       " Min.   :  6.0    Min.   :0.0000   Rural    :111  \n",
       " 1st Qu.:360.0    1st Qu.:1.0000   Semiurban:116  \n",
       " Median :360.0    Median :1.0000   Urban    :140  \n",
       " Mean   :342.5    Mean   :0.8254                  \n",
       " 3rd Qu.:360.0    3rd Qu.:1.0000                  \n",
       " Max.   :480.0    Max.   :1.0000                  \n",
       " NA's   :6        NA's   :29                      "
      ]
     },
     "metadata": {},
     "output_type": "display_data"
    }
   ],
   "source": [
    "loan.test.1 <- loan.test\n",
    "loan.test.1[loan.test.1==\"\"] <- NA\n",
    "summary(loan.test.1)"
   ]
  },
  {
   "cell_type": "code",
   "execution_count": 14,
   "metadata": {
    "collapsed": false
   },
   "outputs": [
    {
     "name": "stdout",
     "output_type": "stream",
     "text": [
      "  missForest iteration 1 in progress..."
     ]
    },
    {
     "name": "stderr",
     "output_type": "stream",
     "text": [
      "Warning message in randomForest.default(x = obsX, y = obsY, ntree = ntree, mtry = mtry, :\n",
      "“The response has five or fewer unique values.  Are you sure you want to do regression?”"
     ]
    },
    {
     "name": "stdout",
     "output_type": "stream",
     "text": [
      "done!\n",
      "  missForest iteration 2 in progress..."
     ]
    },
    {
     "name": "stderr",
     "output_type": "stream",
     "text": [
      "Warning message in randomForest.default(x = obsX, y = obsY, ntree = ntree, mtry = mtry, :\n",
      "“The response has five or fewer unique values.  Are you sure you want to do regression?”"
     ]
    },
    {
     "name": "stdout",
     "output_type": "stream",
     "text": [
      "done!\n",
      "  missForest iteration 3 in progress..."
     ]
    },
    {
     "name": "stderr",
     "output_type": "stream",
     "text": [
      "Warning message in randomForest.default(x = obsX, y = obsY, ntree = ntree, mtry = mtry, :\n",
      "“The response has five or fewer unique values.  Are you sure you want to do regression?”"
     ]
    },
    {
     "name": "stdout",
     "output_type": "stream",
     "text": [
      "done!\n"
     ]
    },
    {
     "data": {
      "text/plain": [
       "    Gender    Married   Dependents        Education   Self_Employed\n",
       "       :  0      :  0     :  0     Graduate    :480      :  0      \n",
       " Female:114   No :215   0 :351     Not Graduate:134   No :531      \n",
       " Male  :500   Yes:399   1 :104                        Yes: 83      \n",
       "                        2 :107                                     \n",
       "                        3+: 52                                     \n",
       "                                                                   \n",
       " ApplicantIncome CoapplicantIncome   LoanAmount    Loan_Amount_Term\n",
       " Min.   :  150   Min.   :    0     Min.   :  9.0   Min.   : 12.0   \n",
       " 1st Qu.: 2878   1st Qu.:    0     1st Qu.:100.0   1st Qu.:360.0   \n",
       " Median : 3812   Median : 1188     Median :128.0   Median :360.0   \n",
       " Mean   : 5403   Mean   : 1621     Mean   :146.5   Mean   :341.9   \n",
       " 3rd Qu.: 5795   3rd Qu.: 2297     3rd Qu.:167.6   3rd Qu.:360.0   \n",
       " Max.   :81000   Max.   :41667     Max.   :700.0   Max.   :480.0   \n",
       " Credit_History     Property_Area Loan_Status\n",
       " Min.   :0.0000   Rural    :179   N:192      \n",
       " 1st Qu.:1.0000   Semiurban:233   Y:422      \n",
       " Median :1.0000   Urban    :202              \n",
       " Mean   :0.8452                              \n",
       " 3rd Qu.:1.0000                              \n",
       " Max.   :1.0000                              "
      ]
     },
     "metadata": {},
     "output_type": "display_data"
    },
    {
     "name": "stdout",
     "output_type": "stream",
     "text": [
      "'data.frame':\t614 obs. of  12 variables:\n",
      " $ Gender           : Factor w/ 3 levels \"\",\"Female\",\"Male\": 3 3 3 3 3 3 3 3 3 3 ...\n",
      " $ Married          : Factor w/ 3 levels \"\",\"No\",\"Yes\": 2 3 3 3 2 3 3 3 3 3 ...\n",
      " $ Dependents       : Factor w/ 5 levels \"\",\"0\",\"1\",\"2\",..: 2 3 2 2 2 4 2 5 4 3 ...\n",
      " $ Education        : Factor w/ 2 levels \"Graduate\",\"Not Graduate\": 1 1 1 2 1 1 2 1 1 1 ...\n",
      " $ Self_Employed    : Factor w/ 3 levels \"\",\"No\",\"Yes\": 2 2 3 2 2 3 2 2 2 2 ...\n",
      " $ ApplicantIncome  : num  5849 4583 3000 2583 6000 ...\n",
      " $ CoapplicantIncome: num  0 1508 0 2358 0 ...\n",
      " $ LoanAmount       : num  151 128 66 120 141 ...\n",
      " $ Loan_Amount_Term : num  360 360 360 360 360 360 360 360 360 360 ...\n",
      " $ Credit_History   : num  1 1 1 1 1 1 1 0 1 1 ...\n",
      " $ Property_Area    : Factor w/ 3 levels \"Rural\",\"Semiurban\",..: 3 1 3 3 3 3 3 2 3 2 ...\n",
      " $ Loan_Status      : Factor w/ 2 levels \"N\",\"Y\": 2 1 2 2 2 2 2 1 2 1 ...\n",
      "            variable q_zeros p_zeros q_na p_na q_inf p_inf    type unique\n",
      "1             Gender       0    0.00    0    0     0     0  factor      2\n",
      "2            Married       0    0.00    0    0     0     0  factor      2\n",
      "3         Dependents     351   57.17    0    0     0     0  factor      4\n",
      "4          Education       0    0.00    0    0     0     0  factor      2\n",
      "5      Self_Employed       0    0.00    0    0     0     0  factor      2\n",
      "6    ApplicantIncome       0    0.00    0    0     0     0 numeric    505\n",
      "7  CoapplicantIncome     273   44.46    0    0     0     0 numeric    287\n",
      "8         LoanAmount       0    0.00    0    0     0     0 numeric    225\n",
      "9   Loan_Amount_Term       0    0.00    0    0     0     0 numeric     24\n",
      "10    Credit_History      89   14.50    0    0     0     0 numeric     46\n",
      "11     Property_Area       0    0.00    0    0     0     0  factor      3\n",
      "12       Loan_Status       0    0.00    0    0     0     0  factor      2\n"
     ]
    }
   ],
   "source": [
    "library(missForest)\n",
    "train.loan.1 <- missForest(loan.train.1[,-1],maxiter=10, ntree=100,decreasing=FALSE,mtry=floor(sqrt(ncol(loan.train))),replace=TRUE,parallelize = c('no'))\n",
    "summary(train.loan.1$ximp)\n",
    "str(train.loan.1$ximp)\n",
    "train.loan <- train.loan.1$ximp\n",
    "df_status(train.loan)"
   ]
  },
  {
   "cell_type": "code",
   "execution_count": 40,
   "metadata": {
    "collapsed": false
   },
   "outputs": [
    {
     "name": "stdout",
     "output_type": "stream",
     "text": [
      "  missForest iteration 1 in progress..."
     ]
    },
    {
     "name": "stderr",
     "output_type": "stream",
     "text": [
      "Warning message in randomForest.default(x = obsX, y = obsY, ntree = ntree, mtry = mtry, :\n",
      "“The response has five or fewer unique values.  Are you sure you want to do regression?”"
     ]
    },
    {
     "name": "stdout",
     "output_type": "stream",
     "text": [
      "done!\n",
      "  missForest iteration 2 in progress..."
     ]
    },
    {
     "name": "stderr",
     "output_type": "stream",
     "text": [
      "Warning message in randomForest.default(x = obsX, y = obsY, ntree = ntree, mtry = mtry, :\n",
      "“The response has five or fewer unique values.  Are you sure you want to do regression?”"
     ]
    },
    {
     "name": "stdout",
     "output_type": "stream",
     "text": [
      "done!\n",
      "  missForest iteration 3 in progress..."
     ]
    },
    {
     "name": "stderr",
     "output_type": "stream",
     "text": [
      "Warning message in randomForest.default(x = obsX, y = obsY, ntree = ntree, mtry = mtry, :\n",
      "“The response has five or fewer unique values.  Are you sure you want to do regression?”"
     ]
    },
    {
     "name": "stdout",
     "output_type": "stream",
     "text": [
      "done!\n",
      "  missForest iteration 4 in progress..."
     ]
    },
    {
     "name": "stderr",
     "output_type": "stream",
     "text": [
      "Warning message in randomForest.default(x = obsX, y = obsY, ntree = ntree, mtry = mtry, :\n",
      "“The response has five or fewer unique values.  Are you sure you want to do regression?”"
     ]
    },
    {
     "name": "stdout",
     "output_type": "stream",
     "text": [
      "done!\n",
      "  missForest iteration 5 in progress..."
     ]
    },
    {
     "name": "stderr",
     "output_type": "stream",
     "text": [
      "Warning message in randomForest.default(x = obsX, y = obsY, ntree = ntree, mtry = mtry, :\n",
      "“The response has five or fewer unique values.  Are you sure you want to do regression?”"
     ]
    },
    {
     "name": "stdout",
     "output_type": "stream",
     "text": [
      "done!\n",
      "  missForest iteration 6 in progress..."
     ]
    },
    {
     "name": "stderr",
     "output_type": "stream",
     "text": [
      "Warning message in randomForest.default(x = obsX, y = obsY, ntree = ntree, mtry = mtry, :\n",
      "“The response has five or fewer unique values.  Are you sure you want to do regression?”"
     ]
    },
    {
     "name": "stdout",
     "output_type": "stream",
     "text": [
      "done!\n",
      "  missForest iteration 7 in progress..."
     ]
    },
    {
     "name": "stderr",
     "output_type": "stream",
     "text": [
      "Warning message in randomForest.default(x = obsX, y = obsY, ntree = ntree, mtry = mtry, :\n",
      "“The response has five or fewer unique values.  Are you sure you want to do regression?”"
     ]
    },
    {
     "name": "stdout",
     "output_type": "stream",
     "text": [
      "done!\n",
      "            variable q_zeros p_zeros q_na p_na q_inf p_inf    type unique\n",
      "1             Gender       0    0.00    0    0     0     0  factor      2\n",
      "2            Married       0    0.00    0    0     0     0  factor      2\n",
      "3         Dependents     206   56.13    0    0     0     0  factor      4\n",
      "4          Education       0    0.00    0    0     0     0  factor      2\n",
      "5      Self_Employed       0    0.00    0    0     0     0  factor      2\n",
      "6    ApplicantIncome       2    0.54    0    0     0     0 numeric    314\n",
      "7  CoapplicantIncome     156   42.51    0    0     0     0 numeric    194\n",
      "8         LoanAmount       0    0.00    0    0     0     0 numeric    149\n",
      "9   Loan_Amount_Term       0    0.00    0    0     0     0 numeric     18\n",
      "10    Credit_History      59   16.08    0    0     0     0 numeric     31\n",
      "11     Property_Area       0    0.00    0    0     0     0  factor      3\n"
     ]
    }
   ],
   "source": [
    "test.loan.1 <- missForest(loan.test.1[,-1],maxiter=10, ntree=100,decreasing=FALSE,mtry=floor(sqrt(ncol(loan.train))),replace=TRUE,parallelize = c('no'))\n",
    "\n",
    "test.loan <- test.loan.1$ximp\n",
    "df_status(test.loan)"
   ]
  },
  {
   "cell_type": "code",
   "execution_count": 41,
   "metadata": {
    "collapsed": true
   },
   "outputs": [],
   "source": [
    "test.loan$Loan_ID <- loan.test.1$Loan_ID "
   ]
  },
  {
   "cell_type": "code",
   "execution_count": 42,
   "metadata": {
    "collapsed": false
   },
   "outputs": [
    {
     "name": "stdout",
     "output_type": "stream",
     "text": [
      "            variable q_zeros p_zeros q_na p_na q_inf p_inf    type unique\n",
      "1             Gender       0    0.00    0    0     0     0  factor      2\n",
      "2            Married       0    0.00    0    0     0     0  factor      2\n",
      "3         Dependents     206   56.13    0    0     0     0  factor      4\n",
      "4          Education       0    0.00    0    0     0     0  factor      2\n",
      "5      Self_Employed       0    0.00    0    0     0     0  factor      2\n",
      "6    ApplicantIncome       2    0.54    0    0     0     0 numeric    314\n",
      "7  CoapplicantIncome     156   42.51    0    0     0     0 numeric    194\n",
      "8         LoanAmount       0    0.00    0    0     0     0 numeric    149\n",
      "9   Loan_Amount_Term       0    0.00    0    0     0     0 numeric     18\n",
      "10    Credit_History      59   16.08    0    0     0     0 numeric     31\n",
      "11     Property_Area       0    0.00    0    0     0     0  factor      3\n",
      "12           Loan_ID       0    0.00    0    0     0     0  factor    367\n"
     ]
    }
   ],
   "source": [
    "df_status(test.loan)"
   ]
  },
  {
   "cell_type": "code",
   "execution_count": 10,
   "metadata": {
    "collapsed": true
   },
   "outputs": [],
   "source": [
    "fitControl <- trainControl(method= \"repeatedcv\", number=4, repeats = 4)"
   ]
  },
  {
   "cell_type": "code",
   "execution_count": 11,
   "metadata": {
    "collapsed": false
   },
   "outputs": [
    {
     "data": {
      "text/plain": [
       "                  Length Class  Mode     \n",
       "method            1      -none- character\n",
       "number            1      -none- numeric  \n",
       "repeats           1      -none- numeric  \n",
       "search            1      -none- character\n",
       "p                 1      -none- numeric  \n",
       "initialWindow     0      -none- NULL     \n",
       "horizon           1      -none- numeric  \n",
       "fixedWindow       1      -none- logical  \n",
       "skip              1      -none- numeric  \n",
       "verboseIter       1      -none- logical  \n",
       "returnData        1      -none- logical  \n",
       "returnResamp      1      -none- character\n",
       "savePredictions   1      -none- logical  \n",
       "classProbs        1      -none- logical  \n",
       "summaryFunction   1      -none- function \n",
       "selectionFunction 1      -none- character\n",
       "preProcOptions    6      -none- list     \n",
       "sampling          0      -none- NULL     \n",
       "index             0      -none- NULL     \n",
       "indexOut          0      -none- NULL     \n",
       "indexFinal        0      -none- NULL     \n",
       "timingSamps       1      -none- numeric  \n",
       "predictionBounds  2      -none- logical  \n",
       "seeds             1      -none- logical  \n",
       "adaptive          4      -none- list     \n",
       "trim              1      -none- logical  \n",
       "allowParallel     1      -none- logical  "
      ]
     },
     "metadata": {},
     "output_type": "display_data"
    }
   ],
   "source": [
    "summary(fitControl)"
   ]
  },
  {
   "cell_type": "code",
   "execution_count": 30,
   "metadata": {
    "collapsed": false
   },
   "outputs": [],
   "source": [
    "gbmfit1 <- train(as.factor(Loan_Status)~., data=train.loan, method = \"gbm\", trControl = fitControl, verbose=F)"
   ]
  },
  {
   "cell_type": "code",
   "execution_count": 31,
   "metadata": {
    "collapsed": false
   },
   "outputs": [
    {
     "data": {
      "text/html": [
       "<table>\n",
       "<thead><tr><th></th><th scope=col>var</th><th scope=col>rel.inf</th></tr></thead>\n",
       "<tbody>\n",
       "\t<tr><th scope=row>Credit_History</th><td>Credit_History        </td><td>81.7694159            </td></tr>\n",
       "\t<tr><th scope=row>Property_AreaSemiurban</th><td>Property_AreaSemiurban</td><td> 4.3037998            </td></tr>\n",
       "\t<tr><th scope=row>LoanAmount</th><td>LoanAmount            </td><td> 3.9705745            </td></tr>\n",
       "\t<tr><th scope=row>CoapplicantIncome</th><td>CoapplicantIncome     </td><td> 2.5916703            </td></tr>\n",
       "\t<tr><th scope=row>ApplicantIncome</th><td>ApplicantIncome       </td><td> 2.2310202            </td></tr>\n",
       "\t<tr><th scope=row>Loan_Amount_Term</th><td>Loan_Amount_Term      </td><td> 1.5629207            </td></tr>\n",
       "\t<tr><th scope=row>EducationNot Graduate</th><td>EducationNot Graduate </td><td> 1.0887386            </td></tr>\n",
       "\t<tr><th scope=row>MarriedNo</th><td>MarriedNo             </td><td> 0.9586001            </td></tr>\n",
       "\t<tr><th scope=row>MarriedYes</th><td>MarriedYes            </td><td> 0.8853640            </td></tr>\n",
       "\t<tr><th scope=row>Self_EmployedNo</th><td>Self_EmployedNo       </td><td> 0.6378960            </td></tr>\n",
       "\t<tr><th scope=row>GenderFemale</th><td>GenderFemale          </td><td> 0.0000000            </td></tr>\n",
       "\t<tr><th scope=row>GenderMale</th><td>GenderMale            </td><td> 0.0000000            </td></tr>\n",
       "\t<tr><th scope=row>Dependents0</th><td>Dependents0           </td><td> 0.0000000            </td></tr>\n",
       "\t<tr><th scope=row>Dependents1</th><td>Dependents1           </td><td> 0.0000000            </td></tr>\n",
       "\t<tr><th scope=row>Dependents2</th><td>Dependents2           </td><td> 0.0000000            </td></tr>\n",
       "\t<tr><th scope=row>Dependents3+</th><td>Dependents3+          </td><td> 0.0000000            </td></tr>\n",
       "\t<tr><th scope=row>Self_EmployedYes</th><td>Self_EmployedYes      </td><td> 0.0000000            </td></tr>\n",
       "\t<tr><th scope=row>Property_AreaUrban</th><td>Property_AreaUrban    </td><td> 0.0000000            </td></tr>\n",
       "</tbody>\n",
       "</table>\n"
      ],
      "text/latex": [
       "\\begin{tabular}{r|ll}\n",
       "  & var & rel.inf\\\\\n",
       "\\hline\n",
       "\tCredit\\_History & Credit\\_History         & 81.7694159              \\\\\n",
       "\tProperty\\_AreaSemiurban & Property\\_AreaSemiurban &  4.3037998              \\\\\n",
       "\tLoanAmount & LoanAmount             &  3.9705745            \\\\\n",
       "\tCoapplicantIncome & CoapplicantIncome      &  2.5916703            \\\\\n",
       "\tApplicantIncome & ApplicantIncome        &  2.2310202            \\\\\n",
       "\tLoan\\_Amount\\_Term & Loan\\_Amount\\_Term       &  1.5629207                \\\\\n",
       "\tEducationNot Graduate & EducationNot Graduate  &  1.0887386            \\\\\n",
       "\tMarriedNo & MarriedNo              &  0.9586001            \\\\\n",
       "\tMarriedYes & MarriedYes             &  0.8853640            \\\\\n",
       "\tSelf\\_EmployedNo & Self\\_EmployedNo        &  0.6378960              \\\\\n",
       "\tGenderFemale & GenderFemale           &  0.0000000            \\\\\n",
       "\tGenderMale & GenderMale             &  0.0000000            \\\\\n",
       "\tDependents0 & Dependents0            &  0.0000000            \\\\\n",
       "\tDependents1 & Dependents1            &  0.0000000            \\\\\n",
       "\tDependents2 & Dependents2            &  0.0000000            \\\\\n",
       "\tDependents3+ & Dependents3+           &  0.0000000            \\\\\n",
       "\tSelf\\_EmployedYes & Self\\_EmployedYes       &  0.0000000              \\\\\n",
       "\tProperty\\_AreaUrban & Property\\_AreaUrban     &  0.0000000              \\\\\n",
       "\\end{tabular}\n"
      ],
      "text/markdown": [
       "\n",
       "| <!--/--> | var | rel.inf | \n",
       "|---|---|---|---|---|---|---|---|---|---|---|---|---|---|---|---|---|---|\n",
       "| Credit_History | Credit_History         | 81.7694159             | \n",
       "| Property_AreaSemiurban | Property_AreaSemiurban |  4.3037998             | \n",
       "| LoanAmount | LoanAmount             |  3.9705745             | \n",
       "| CoapplicantIncome | CoapplicantIncome      |  2.5916703             | \n",
       "| ApplicantIncome | ApplicantIncome        |  2.2310202             | \n",
       "| Loan_Amount_Term | Loan_Amount_Term       |  1.5629207             | \n",
       "| EducationNot Graduate | EducationNot Graduate  |  1.0887386             | \n",
       "| MarriedNo | MarriedNo              |  0.9586001             | \n",
       "| MarriedYes | MarriedYes             |  0.8853640             | \n",
       "| Self_EmployedNo | Self_EmployedNo        |  0.6378960             | \n",
       "| GenderFemale | GenderFemale           |  0.0000000             | \n",
       "| GenderMale | GenderMale             |  0.0000000             | \n",
       "| Dependents0 | Dependents0            |  0.0000000             | \n",
       "| Dependents1 | Dependents1            |  0.0000000             | \n",
       "| Dependents2 | Dependents2            |  0.0000000             | \n",
       "| Dependents3+ | Dependents3+           |  0.0000000             | \n",
       "| Self_EmployedYes | Self_EmployedYes       |  0.0000000             | \n",
       "| Property_AreaUrban | Property_AreaUrban     |  0.0000000             | \n",
       "\n",
       "\n"
      ],
      "text/plain": [
       "                       var                    rel.inf   \n",
       "Credit_History         Credit_History         81.7694159\n",
       "Property_AreaSemiurban Property_AreaSemiurban  4.3037998\n",
       "LoanAmount             LoanAmount              3.9705745\n",
       "CoapplicantIncome      CoapplicantIncome       2.5916703\n",
       "ApplicantIncome        ApplicantIncome         2.2310202\n",
       "Loan_Amount_Term       Loan_Amount_Term        1.5629207\n",
       "EducationNot Graduate  EducationNot Graduate   1.0887386\n",
       "MarriedNo              MarriedNo               0.9586001\n",
       "MarriedYes             MarriedYes              0.8853640\n",
       "Self_EmployedNo        Self_EmployedNo         0.6378960\n",
       "GenderFemale           GenderFemale            0.0000000\n",
       "GenderMale             GenderMale              0.0000000\n",
       "Dependents0            Dependents0             0.0000000\n",
       "Dependents1            Dependents1             0.0000000\n",
       "Dependents2            Dependents2             0.0000000\n",
       "Dependents3+           Dependents3+            0.0000000\n",
       "Self_EmployedYes       Self_EmployedYes        0.0000000\n",
       "Property_AreaUrban     Property_AreaUrban      0.0000000"
      ]
     },
     "metadata": {},
     "output_type": "display_data"
    },
    {
     "data": {
      "image/png": "[encoded data removed]",
      "text/plain": [
       "plot without title"
      ]
     },
     "metadata": {},
     "output_type": "display_data"
    }
   ],
   "source": [
    "summary(gbmfit1)"
   ]
  },
  {
   "cell_type": "code",
   "execution_count": 43,
   "metadata": {
    "collapsed": false
   },
   "outputs": [
    {
     "data": {
      "text/html": [
       "<ol class=list-inline>\n",
       "\t<li>367</li>\n",
       "\t<li>12</li>\n",
       "</ol>\n"
      ],
      "text/latex": [
       "\\begin{enumerate*}\n",
       "\\item 367\n",
       "\\item 12\n",
       "\\end{enumerate*}\n"
      ],
      "text/markdown": [
       "1. 367\n",
       "2. 12\n",
       "\n",
       "\n"
      ],
      "text/plain": [
       "[1] 367  12"
      ]
     },
     "metadata": {},
     "output_type": "display_data"
    }
   ],
   "source": [
    "dim(test.loan)"
   ]
  },
  {
   "cell_type": "code",
   "execution_count": 50,
   "metadata": {
    "collapsed": false
   },
   "outputs": [],
   "source": [
    "gbm_test <- predict(gbmfit1, test.loan, type=\"raw\" )"
   ]
  },
  {
   "cell_type": "code",
   "execution_count": 51,
   "metadata": {
    "collapsed": false
   },
   "outputs": [
    {
     "name": "stdout",
     "output_type": "stream",
     "text": [
      " Factor w/ 2 levels \"N\",\"Y\": 2 2 2 1 2 2 2 1 2 2 ...\n"
     ]
    }
   ],
   "source": [
    "str(gbm_test)"
   ]
  },
  {
   "cell_type": "code",
   "execution_count": 56,
   "metadata": {
    "collapsed": true
   },
   "outputs": [],
   "source": [
    "Sub_files <- as.character(test.loan$Loan_ID)"
   ]
  },
  {
   "cell_type": "code",
   "execution_count": 58,
   "metadata": {
    "collapsed": false
   },
   "outputs": [],
   "source": [
    "Sub_files <- cbind(Sub_files, as.character(gbm_test))"
   ]
  },
  {
   "cell_type": "code",
   "execution_count": null,
   "metadata": {
    "collapsed": false
   },
   "outputs": [],
   "source": []
  },
  {
   "cell_type": "code",
   "execution_count": null,
   "metadata": {
    "collapsed": false
   },
   "outputs": [],
   "source": []
  },
  {
   "cell_type": "code",
   "execution_count": 60,
   "metadata": {
    "collapsed": true
   },
   "outputs": [],
   "source": [
    "write.csv(Sub_files, file = \"/home/shahan/Documents/Analytics_Vidhya/LoanPrediction/Submission_Loan_impute_gbm.csv\")"
   ]
  },
  {
   "cell_type": "code",
   "execution_count": 59,
   "metadata": {
    "collapsed": false
   },
   "outputs": [
    {
     "data": {
      "text/html": [
       "<table>\n",
       "<thead><tr><th scope=col>Sub_files</th><th scope=col></th></tr></thead>\n",
       "<tbody>\n",
       "\t<tr><td>LP001015</td><td>Y       </td></tr>\n",
       "\t<tr><td>LP001022</td><td>Y       </td></tr>\n",
       "\t<tr><td>LP001031</td><td>Y       </td></tr>\n",
       "\t<tr><td>LP001035</td><td>N       </td></tr>\n",
       "\t<tr><td>LP001051</td><td>Y       </td></tr>\n",
       "\t<tr><td>LP001054</td><td>Y       </td></tr>\n",
       "</tbody>\n",
       "</table>\n"
      ],
      "text/latex": [
       "\\begin{tabular}{ll}\n",
       " Sub\\_files & \\\\\n",
       "\\hline\n",
       "\t LP001015 & Y       \\\\\n",
       "\t LP001022 & Y       \\\\\n",
       "\t LP001031 & Y       \\\\\n",
       "\t LP001035 & N       \\\\\n",
       "\t LP001051 & Y       \\\\\n",
       "\t LP001054 & Y       \\\\\n",
       "\\end{tabular}\n"
      ],
      "text/markdown": [
       "\n",
       "Sub_files |  | \n",
       "|---|---|---|---|---|---|\n",
       "| LP001015 | Y        | \n",
       "| LP001022 | Y        | \n",
       "| LP001031 | Y        | \n",
       "| LP001035 | N        | \n",
       "| LP001051 | Y        | \n",
       "| LP001054 | Y        | \n",
       "\n",
       "\n"
      ],
      "text/plain": [
       "     Sub_files  \n",
       "[1,] LP001015  Y\n",
       "[2,] LP001022  Y\n",
       "[3,] LP001031  Y\n",
       "[4,] LP001035  N\n",
       "[5,] LP001051  Y\n",
       "[6,] LP001054  Y"
      ]
     },
     "metadata": {},
     "output_type": "display_data"
    }
   ],
   "source": [
    "head(Sub_files)"
   ]
  },
  {
   "cell_type": "code",
   "execution_count": null,
   "metadata": {
    "collapsed": true
   },
   "outputs": [],
   "source": []
  }
 ],
 "metadata": {
  "anaconda-cloud": {},
  "kernelspec": {
   "display_name": "R [conda env:my-r-env]",
   "language": "R",
   "name": "conda-env-my-r-env-r"
  },
  "language_info": {
   "codemirror_mode": "r",
   "file_extension": ".r",
   "mimetype": "text/x-r-source",
   "name": "R",
   "pygments_lexer": "r",
   "version": "3.3.2"
  }
 },
 "nbformat": 4,
 "nbformat_minor": 1
}
